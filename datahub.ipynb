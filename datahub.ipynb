{
 "cells": [
  {
   "attachments": {},
   "cell_type": "markdown",
   "metadata": {},
   "source": [
    "# 0. Import Dependencies"
   ]
  },
  {
   "cell_type": "code",
   "execution_count": 27,
   "metadata": {},
   "outputs": [],
   "source": [
    "import pandas as pd\n",
    "from sklearn.model_selection import train_test_split\n",
    "import numpy as np\n",
    "from tensorflow.keras.models import Sequential, load_model\n",
    "from tensorflow.keras.layers import Dense\n",
    "from sklearn.metrics import accuracy_score\n",
    "import pickle"
   ]
  },
  {
   "cell_type": "code",
   "execution_count": 2,
   "metadata": {},
   "outputs": [],
   "source": [
    "df = pd.read_csv('Churn.csv')"
   ]
  },
  {
   "cell_type": "code",
   "execution_count": 8,
   "metadata": {},
   "outputs": [
    {
     "name": "stdout",
     "output_type": "stream",
     "text": [
      "1869\n"
     ]
    }
   ],
   "source": [
    "X = pd.get_dummies(df.drop(['Churn', 'Customer ID'], axis=1))\n",
    "# print(X)\n",
    "y = df['Churn'].apply(lambda x: 1 if x=='Yes' else 0)\n",
    "print(y)"
   ]
  },
  {
   "cell_type": "code",
   "execution_count": 11,
   "metadata": {},
   "outputs": [],
   "source": [
    "X_train, X_test, y_train, y_test = train_test_split(X, y, test_size=.2)"
   ]
  },
  {
   "cell_type": "code",
   "execution_count": 12,
   "metadata": {},
   "outputs": [
    {
     "data": {
      "text/plain": [
       "257     0\n",
       "1040    1\n",
       "6047    0\n",
       "5099    1\n",
       "4452    0\n",
       "Name: Churn, dtype: int64"
      ]
     },
     "execution_count": 12,
     "metadata": {},
     "output_type": "execute_result"
    }
   ],
   "source": [
    "y_train.head()"
   ]
  },
  {
   "cell_type": "markdown",
   "metadata": {},
   "source": [
    "# 2. Build and Compile Model"
   ]
  },
  {
   "cell_type": "code",
   "execution_count": 14,
   "metadata": {},
   "outputs": [],
   "source": [
    "model = Sequential()\n",
    "model.add(Dense(units=32, activation='relu', input_dim=len(X_train.columns)))\n",
    "model.add(Dense(units=64, activation='relu'))\n",
    "model.add(Dense(units=1, activation='sigmoid'))"
   ]
  },
  {
   "cell_type": "code",
   "execution_count": 15,
   "metadata": {},
   "outputs": [],
   "source": [
    "model.compile(loss='binary_crossentropy', optimizer='sgd', metrics='accuracy')"
   ]
  },
  {
   "cell_type": "markdown",
   "metadata": {},
   "source": [
    "# 3. Fit, Predict and Evaluate"
   ]
  },
  {
   "cell_type": "code",
   "execution_count": 18,
   "metadata": {
    "collapsed": true
   },
   "outputs": [
    {
     "name": "stdout",
     "output_type": "stream",
     "text": [
      "Epoch 1/200\n",
      "177/177 [==============================] - 0s 762us/step - loss: 0.5032 - accuracy: 0.7539\n",
      "Epoch 2/200\n",
      "177/177 [==============================] - 0s 689us/step - loss: 0.4883 - accuracy: 0.7750\n",
      "Epoch 3/200\n",
      "177/177 [==============================] - 0s 632us/step - loss: 0.4819 - accuracy: 0.7759\n",
      "Epoch 4/200\n",
      "177/177 [==============================] - 0s 661us/step - loss: 0.4799 - accuracy: 0.7760\n",
      "Epoch 5/200\n",
      "177/177 [==============================] - 0s 690us/step - loss: 0.4770 - accuracy: 0.7787\n",
      "Epoch 6/200\n",
      "177/177 [==============================] - 0s 646us/step - loss: 0.4699 - accuracy: 0.7830\n",
      "Epoch 7/200\n",
      "177/177 [==============================] - 0s 638us/step - loss: 0.4696 - accuracy: 0.7828\n",
      "Epoch 8/200\n",
      "177/177 [==============================] - 0s 658us/step - loss: 0.4708 - accuracy: 0.7760\n",
      "Epoch 9/200\n",
      "177/177 [==============================] - 0s 690us/step - loss: 0.4683 - accuracy: 0.7810\n",
      "Epoch 10/200\n",
      "177/177 [==============================] - 0s 647us/step - loss: 0.4644 - accuracy: 0.7785\n",
      "Epoch 11/200\n",
      "177/177 [==============================] - 0s 665us/step - loss: 0.4661 - accuracy: 0.7764\n",
      "Epoch 12/200\n",
      "177/177 [==============================] - 0s 643us/step - loss: 0.4631 - accuracy: 0.7794\n",
      "Epoch 13/200\n",
      "177/177 [==============================] - 0s 695us/step - loss: 0.4611 - accuracy: 0.7814\n",
      "Epoch 14/200\n",
      "177/177 [==============================] - 0s 666us/step - loss: 0.4612 - accuracy: 0.7814\n",
      "Epoch 15/200\n",
      "177/177 [==============================] - 0s 643us/step - loss: 0.4589 - accuracy: 0.7814\n",
      "Epoch 16/200\n",
      "177/177 [==============================] - 0s 911us/step - loss: 0.4555 - accuracy: 0.7833\n",
      "Epoch 17/200\n",
      "177/177 [==============================] - 0s 697us/step - loss: 0.4558 - accuracy: 0.7824\n",
      "Epoch 18/200\n",
      "177/177 [==============================] - 0s 647us/step - loss: 0.4577 - accuracy: 0.7805\n",
      "Epoch 19/200\n",
      "177/177 [==============================] - 0s 764us/step - loss: 0.4552 - accuracy: 0.7824\n",
      "Epoch 20/200\n",
      "177/177 [==============================] - 0s 831us/step - loss: 0.4531 - accuracy: 0.7865\n",
      "Epoch 21/200\n",
      "177/177 [==============================] - 0s 671us/step - loss: 0.4542 - accuracy: 0.7830\n",
      "Epoch 22/200\n",
      "177/177 [==============================] - 0s 631us/step - loss: 0.4537 - accuracy: 0.7851\n",
      "Epoch 23/200\n",
      "177/177 [==============================] - 0s 653us/step - loss: 0.4637 - accuracy: 0.7791\n",
      "Epoch 24/200\n",
      "177/177 [==============================] - 0s 778us/step - loss: 0.4545 - accuracy: 0.7831\n",
      "Epoch 25/200\n",
      "177/177 [==============================] - 0s 661us/step - loss: 0.4517 - accuracy: 0.7844\n",
      "Epoch 26/200\n",
      "177/177 [==============================] - 0s 620us/step - loss: 0.4534 - accuracy: 0.7837\n",
      "Epoch 27/200\n",
      "177/177 [==============================] - 0s 662us/step - loss: 0.4502 - accuracy: 0.7833\n",
      "Epoch 28/200\n",
      "177/177 [==============================] - 0s 680us/step - loss: 0.4483 - accuracy: 0.7862\n",
      "Epoch 29/200\n",
      "177/177 [==============================] - 0s 659us/step - loss: 0.4520 - accuracy: 0.7856\n",
      "Epoch 30/200\n",
      "177/177 [==============================] - 0s 622us/step - loss: 0.4484 - accuracy: 0.7817\n",
      "Epoch 31/200\n",
      "177/177 [==============================] - 0s 650us/step - loss: 0.4492 - accuracy: 0.7853\n",
      "Epoch 32/200\n",
      "177/177 [==============================] - 0s 772us/step - loss: 0.4460 - accuracy: 0.7858\n",
      "Epoch 33/200\n",
      "177/177 [==============================] - 0s 634us/step - loss: 0.4490 - accuracy: 0.7870\n",
      "Epoch 34/200\n",
      "177/177 [==============================] - 0s 640us/step - loss: 0.4457 - accuracy: 0.7863\n",
      "Epoch 35/200\n",
      "177/177 [==============================] - 0s 662us/step - loss: 0.4494 - accuracy: 0.7851\n",
      "Epoch 36/200\n",
      "177/177 [==============================] - 0s 682us/step - loss: 0.4464 - accuracy: 0.7881\n",
      "Epoch 37/200\n",
      "177/177 [==============================] - 0s 648us/step - loss: 0.4462 - accuracy: 0.7876\n",
      "Epoch 38/200\n",
      "177/177 [==============================] - 0s 642us/step - loss: 0.4470 - accuracy: 0.7858\n",
      "Epoch 39/200\n",
      "177/177 [==============================] - 0s 665us/step - loss: 0.4437 - accuracy: 0.7853\n",
      "Epoch 40/200\n",
      "177/177 [==============================] - 0s 689us/step - loss: 0.4437 - accuracy: 0.7888\n",
      "Epoch 41/200\n",
      "177/177 [==============================] - 0s 620us/step - loss: 0.4454 - accuracy: 0.7862\n",
      "Epoch 42/200\n",
      "177/177 [==============================] - 0s 645us/step - loss: 0.4437 - accuracy: 0.7846\n",
      "Epoch 43/200\n",
      "177/177 [==============================] - 0s 667us/step - loss: 0.4441 - accuracy: 0.7853\n",
      "Epoch 44/200\n",
      "177/177 [==============================] - 0s 681us/step - loss: 0.4434 - accuracy: 0.7874\n",
      "Epoch 45/200\n",
      "177/177 [==============================] - 0s 670us/step - loss: 0.4432 - accuracy: 0.7863\n",
      "Epoch 46/200\n",
      "177/177 [==============================] - 0s 694us/step - loss: 0.4428 - accuracy: 0.7895\n",
      "Epoch 47/200\n",
      "177/177 [==============================] - 0s 700us/step - loss: 0.4430 - accuracy: 0.7846\n",
      "Epoch 48/200\n",
      "177/177 [==============================] - 0s 689us/step - loss: 0.4421 - accuracy: 0.7849\n",
      "Epoch 49/200\n",
      "177/177 [==============================] - 0s 738us/step - loss: 0.4412 - accuracy: 0.7876\n",
      "Epoch 50/200\n",
      "177/177 [==============================] - 0s 823us/step - loss: 0.4409 - accuracy: 0.7895\n",
      "Epoch 51/200\n",
      "177/177 [==============================] - 0s 883us/step - loss: 0.4433 - accuracy: 0.7899\n",
      "Epoch 52/200\n",
      "177/177 [==============================] - 0s 850us/step - loss: 0.4388 - accuracy: 0.7906\n",
      "Epoch 53/200\n",
      "177/177 [==============================] - 0s 678us/step - loss: 0.4377 - accuracy: 0.7879\n",
      "Epoch 54/200\n",
      "177/177 [==============================] - 0s 843us/step - loss: 0.4383 - accuracy: 0.7874\n",
      "Epoch 55/200\n",
      "177/177 [==============================] - 0s 673us/step - loss: 0.4386 - accuracy: 0.7913\n",
      "Epoch 56/200\n",
      "177/177 [==============================] - 0s 639us/step - loss: 0.4406 - accuracy: 0.7878\n",
      "Epoch 57/200\n",
      "177/177 [==============================] - 0s 1ms/step - loss: 0.4370 - accuracy: 0.7892\n",
      "Epoch 58/200\n",
      "177/177 [==============================] - 0s 669us/step - loss: 0.4379 - accuracy: 0.7886\n",
      "Epoch 59/200\n",
      "177/177 [==============================] - 0s 636us/step - loss: 0.4363 - accuracy: 0.7890\n",
      "Epoch 60/200\n",
      "177/177 [==============================] - 0s 630us/step - loss: 0.4379 - accuracy: 0.7879\n",
      "Epoch 61/200\n",
      "177/177 [==============================] - 0s 680us/step - loss: 0.4360 - accuracy: 0.7892\n",
      "Epoch 62/200\n",
      "177/177 [==============================] - 0s 663us/step - loss: 0.4417 - accuracy: 0.7856\n",
      "Epoch 63/200\n",
      "177/177 [==============================] - 0s 634us/step - loss: 0.4373 - accuracy: 0.7936\n",
      "Epoch 64/200\n",
      "177/177 [==============================] - 0s 653us/step - loss: 0.4352 - accuracy: 0.7904\n",
      "Epoch 65/200\n",
      "177/177 [==============================] - 0s 679us/step - loss: 0.4380 - accuracy: 0.7895\n",
      "Epoch 66/200\n",
      "177/177 [==============================] - 0s 665us/step - loss: 0.4372 - accuracy: 0.7865\n",
      "Epoch 67/200\n",
      "177/177 [==============================] - 0s 628us/step - loss: 0.4349 - accuracy: 0.7908\n",
      "Epoch 68/200\n",
      "177/177 [==============================] - 0s 656us/step - loss: 0.4370 - accuracy: 0.7886\n",
      "Epoch 69/200\n",
      "177/177 [==============================] - 0s 685us/step - loss: 0.4337 - accuracy: 0.7886\n",
      "Epoch 70/200\n",
      "177/177 [==============================] - 0s 660us/step - loss: 0.4318 - accuracy: 0.7922\n",
      "Epoch 71/200\n",
      "177/177 [==============================] - 0s 637us/step - loss: 0.4334 - accuracy: 0.7924\n",
      "Epoch 72/200\n",
      "177/177 [==============================] - 0s 658us/step - loss: 0.4353 - accuracy: 0.7918\n",
      "Epoch 73/200\n",
      "177/177 [==============================] - 0s 695us/step - loss: 0.4337 - accuracy: 0.7949\n",
      "Epoch 74/200\n",
      "177/177 [==============================] - 0s 662us/step - loss: 0.4372 - accuracy: 0.7894\n",
      "Epoch 75/200\n",
      "177/177 [==============================] - 0s 620us/step - loss: 0.4337 - accuracy: 0.7888\n",
      "Epoch 76/200\n",
      "177/177 [==============================] - 0s 841us/step - loss: 0.4310 - accuracy: 0.7920\n",
      "Epoch 77/200\n",
      "177/177 [==============================] - 0s 869us/step - loss: 0.4323 - accuracy: 0.7925\n",
      "Epoch 78/200\n",
      "177/177 [==============================] - 0s 644us/step - loss: 0.4313 - accuracy: 0.7920\n",
      "Epoch 79/200\n",
      "177/177 [==============================] - 0s 634us/step - loss: 0.4340 - accuracy: 0.7917\n",
      "Epoch 80/200\n",
      "177/177 [==============================] - 0s 664us/step - loss: 0.4296 - accuracy: 0.7943\n",
      "Epoch 81/200\n",
      "177/177 [==============================] - 0s 685us/step - loss: 0.4303 - accuracy: 0.7977\n",
      "Epoch 82/200\n",
      "177/177 [==============================] - 0s 628us/step - loss: 0.4346 - accuracy: 0.7920\n",
      "Epoch 83/200\n",
      "177/177 [==============================] - 0s 642us/step - loss: 0.4309 - accuracy: 0.7933\n",
      "Epoch 84/200\n",
      "177/177 [==============================] - 0s 672us/step - loss: 0.4334 - accuracy: 0.7899\n",
      "Epoch 85/200\n",
      "177/177 [==============================] - 0s 693us/step - loss: 0.4315 - accuracy: 0.7908\n",
      "Epoch 86/200\n",
      "177/177 [==============================] - 0s 623us/step - loss: 0.4306 - accuracy: 0.7870\n",
      "Epoch 87/200\n",
      "177/177 [==============================] - 0s 634us/step - loss: 0.4295 - accuracy: 0.7963\n",
      "Epoch 88/200\n",
      "177/177 [==============================] - 0s 689us/step - loss: 0.4320 - accuracy: 0.7881\n",
      "Epoch 89/200\n",
      "177/177 [==============================] - 0s 661us/step - loss: 0.4310 - accuracy: 0.7917\n",
      "Epoch 90/200\n",
      "177/177 [==============================] - 0s 641us/step - loss: 0.4300 - accuracy: 0.7917\n",
      "Epoch 91/200\n",
      "177/177 [==============================] - 0s 633us/step - loss: 0.4297 - accuracy: 0.7917\n",
      "Epoch 92/200\n",
      "177/177 [==============================] - 0s 686us/step - loss: 0.4290 - accuracy: 0.7936\n",
      "Epoch 93/200\n",
      "177/177 [==============================] - 0s 679us/step - loss: 0.4304 - accuracy: 0.7929\n",
      "Epoch 94/200\n",
      "177/177 [==============================] - 0s 628us/step - loss: 0.4317 - accuracy: 0.7945\n",
      "Epoch 95/200\n",
      "177/177 [==============================] - 0s 643us/step - loss: 0.4302 - accuracy: 0.7941\n",
      "Epoch 96/200\n",
      "177/177 [==============================] - 0s 685us/step - loss: 0.4267 - accuracy: 0.7934\n",
      "Epoch 97/200\n",
      "177/177 [==============================] - 0s 671us/step - loss: 0.4287 - accuracy: 0.7917\n",
      "Epoch 98/200\n",
      "177/177 [==============================] - 0s 737us/step - loss: 0.4293 - accuracy: 0.7925\n",
      "Epoch 99/200\n",
      "177/177 [==============================] - 0s 638us/step - loss: 0.4280 - accuracy: 0.7938\n",
      "Epoch 100/200\n",
      "177/177 [==============================] - 0s 700us/step - loss: 0.4277 - accuracy: 0.7963\n",
      "Epoch 101/200\n",
      "177/177 [==============================] - 0s 662us/step - loss: 0.4267 - accuracy: 0.7961\n",
      "Epoch 102/200\n",
      "177/177 [==============================] - 0s 642us/step - loss: 0.4268 - accuracy: 0.7941\n",
      "Epoch 103/200\n",
      "177/177 [==============================] - 0s 648us/step - loss: 0.4262 - accuracy: 0.7947\n",
      "Epoch 104/200\n",
      "177/177 [==============================] - 0s 691us/step - loss: 0.4276 - accuracy: 0.7979\n",
      "Epoch 105/200\n",
      "177/177 [==============================] - 0s 661us/step - loss: 0.4304 - accuracy: 0.7917\n",
      "Epoch 106/200\n",
      "177/177 [==============================] - 0s 617us/step - loss: 0.4288 - accuracy: 0.7945\n",
      "Epoch 107/200\n",
      "177/177 [==============================] - 0s 729us/step - loss: 0.4290 - accuracy: 0.7917\n",
      "Epoch 108/200\n",
      "177/177 [==============================] - 0s 692us/step - loss: 0.4274 - accuracy: 0.7933\n",
      "Epoch 109/200\n",
      "177/177 [==============================] - 0s 653us/step - loss: 0.4257 - accuracy: 0.7940\n",
      "Epoch 110/200\n",
      "177/177 [==============================] - 0s 643us/step - loss: 0.4277 - accuracy: 0.7925\n",
      "Epoch 111/200\n",
      "177/177 [==============================] - 0s 668us/step - loss: 0.4275 - accuracy: 0.7931\n",
      "Epoch 112/200\n",
      "177/177 [==============================] - 0s 683us/step - loss: 0.4272 - accuracy: 0.7970\n",
      "Epoch 113/200\n",
      "177/177 [==============================] - 0s 650us/step - loss: 0.4261 - accuracy: 0.7968\n",
      "Epoch 114/200\n",
      "177/177 [==============================] - 0s 623us/step - loss: 0.4269 - accuracy: 0.7965\n",
      "Epoch 115/200\n",
      "177/177 [==============================] - 0s 677us/step - loss: 0.4275 - accuracy: 0.7924\n",
      "Epoch 116/200\n",
      "177/177 [==============================] - 0s 697us/step - loss: 0.4275 - accuracy: 0.7913\n",
      "Epoch 117/200\n",
      "177/177 [==============================] - 0s 635us/step - loss: 0.4252 - accuracy: 0.7968\n",
      "Epoch 118/200\n",
      "177/177 [==============================] - 0s 629us/step - loss: 0.4284 - accuracy: 0.7995\n",
      "Epoch 119/200\n",
      "177/177 [==============================] - 0s 684us/step - loss: 0.4273 - accuracy: 0.7959\n",
      "Epoch 120/200\n",
      "177/177 [==============================] - 0s 716us/step - loss: 0.4253 - accuracy: 0.7957\n",
      "Epoch 121/200\n",
      "177/177 [==============================] - 0s 712us/step - loss: 0.4337 - accuracy: 0.7918\n",
      "Epoch 122/200\n",
      "177/177 [==============================] - 0s 631us/step - loss: 0.4280 - accuracy: 0.7963\n",
      "Epoch 123/200\n",
      "177/177 [==============================] - 0s 690us/step - loss: 0.4258 - accuracy: 0.7949\n",
      "Epoch 124/200\n",
      "177/177 [==============================] - 0s 691us/step - loss: 0.4263 - accuracy: 0.7954\n",
      "Epoch 125/200\n",
      "177/177 [==============================] - 0s 636us/step - loss: 0.4288 - accuracy: 0.7924\n",
      "Epoch 126/200\n",
      "177/177 [==============================] - 0s 625us/step - loss: 0.4252 - accuracy: 0.7966\n",
      "Epoch 127/200\n",
      "177/177 [==============================] - 0s 702us/step - loss: 0.4260 - accuracy: 0.7977\n",
      "Epoch 128/200\n",
      "177/177 [==============================] - 0s 683us/step - loss: 0.4371 - accuracy: 0.7888\n",
      "Epoch 129/200\n",
      "177/177 [==============================] - 0s 641us/step - loss: 0.4252 - accuracy: 0.7956\n",
      "Epoch 130/200\n",
      "177/177 [==============================] - 0s 623us/step - loss: 0.4283 - accuracy: 0.7902\n",
      "Epoch 131/200\n",
      "177/177 [==============================] - 0s 673us/step - loss: 0.4271 - accuracy: 0.7929\n",
      "Epoch 132/200\n",
      "177/177 [==============================] - 0s 685us/step - loss: 0.4240 - accuracy: 0.7945\n",
      "Epoch 133/200\n",
      "177/177 [==============================] - 0s 632us/step - loss: 0.4286 - accuracy: 0.7975\n",
      "Epoch 134/200\n",
      "177/177 [==============================] - 0s 642us/step - loss: 0.4242 - accuracy: 0.7959\n",
      "Epoch 135/200\n",
      "177/177 [==============================] - 0s 971us/step - loss: 0.4220 - accuracy: 0.7933\n",
      "Epoch 136/200\n",
      "177/177 [==============================] - 0s 819us/step - loss: 0.4238 - accuracy: 0.7972\n",
      "Epoch 137/200\n",
      "177/177 [==============================] - 0s 827us/step - loss: 0.4236 - accuracy: 0.7945\n",
      "Epoch 138/200\n",
      "177/177 [==============================] - 0s 781us/step - loss: 0.4230 - accuracy: 0.7947\n",
      "Epoch 139/200\n",
      "177/177 [==============================] - 0s 869us/step - loss: 0.4233 - accuracy: 0.7996\n",
      "Epoch 140/200\n",
      "177/177 [==============================] - 0s 749us/step - loss: 0.4258 - accuracy: 0.7947\n",
      "Epoch 141/200\n",
      "177/177 [==============================] - 0s 725us/step - loss: 0.4258 - accuracy: 0.7957\n",
      "Epoch 142/200\n",
      "177/177 [==============================] - 0s 726us/step - loss: 0.4249 - accuracy: 0.7936\n",
      "Epoch 143/200\n",
      "177/177 [==============================] - 0s 740us/step - loss: 0.4215 - accuracy: 0.7950\n",
      "Epoch 144/200\n",
      "177/177 [==============================] - 0s 933us/step - loss: 0.4287 - accuracy: 0.7945\n",
      "Epoch 145/200\n",
      "177/177 [==============================] - 0s 711us/step - loss: 0.4252 - accuracy: 0.7918\n",
      "Epoch 146/200\n",
      "177/177 [==============================] - 0s 690us/step - loss: 0.4230 - accuracy: 0.7989\n",
      "Epoch 147/200\n",
      "177/177 [==============================] - 0s 671us/step - loss: 0.4231 - accuracy: 0.7968\n",
      "Epoch 148/200\n",
      "177/177 [==============================] - 0s 779us/step - loss: 0.4239 - accuracy: 0.7938\n",
      "Epoch 149/200\n",
      "177/177 [==============================] - 0s 699us/step - loss: 0.4243 - accuracy: 0.7950\n",
      "Epoch 150/200\n",
      "177/177 [==============================] - 0s 633us/step - loss: 0.4216 - accuracy: 0.7980\n",
      "Epoch 151/200\n",
      "177/177 [==============================] - 0s 648us/step - loss: 0.4253 - accuracy: 0.7961\n",
      "Epoch 152/200\n",
      "177/177 [==============================] - 0s 693us/step - loss: 0.4223 - accuracy: 0.7979\n",
      "Epoch 153/200\n",
      "177/177 [==============================] - 0s 712us/step - loss: 0.4217 - accuracy: 0.7938\n",
      "Epoch 154/200\n",
      "177/177 [==============================] - 0s 637us/step - loss: 0.4247 - accuracy: 0.7949\n",
      "Epoch 155/200\n",
      "177/177 [==============================] - 0s 644us/step - loss: 0.4236 - accuracy: 0.7954\n",
      "Epoch 156/200\n",
      "177/177 [==============================] - 0s 707us/step - loss: 0.4210 - accuracy: 0.7961\n",
      "Epoch 157/200\n",
      "177/177 [==============================] - 0s 682us/step - loss: 0.4233 - accuracy: 0.7963\n",
      "Epoch 158/200\n",
      "177/177 [==============================] - 0s 634us/step - loss: 0.4274 - accuracy: 0.7972\n",
      "Epoch 159/200\n",
      "177/177 [==============================] - 0s 736us/step - loss: 0.4245 - accuracy: 0.8000\n",
      "Epoch 160/200\n",
      "177/177 [==============================] - 0s 819us/step - loss: 0.4234 - accuracy: 0.7954\n",
      "Epoch 161/200\n",
      "177/177 [==============================] - 0s 721us/step - loss: 0.4225 - accuracy: 0.8000\n",
      "Epoch 162/200\n",
      "177/177 [==============================] - 0s 665us/step - loss: 0.4229 - accuracy: 0.7954\n",
      "Epoch 163/200\n",
      "177/177 [==============================] - 0s 702us/step - loss: 0.4246 - accuracy: 0.7975\n",
      "Epoch 164/200\n",
      "177/177 [==============================] - 0s 706us/step - loss: 0.4202 - accuracy: 0.7977\n",
      "Epoch 165/200\n",
      "177/177 [==============================] - 0s 649us/step - loss: 0.4223 - accuracy: 0.7957\n",
      "Epoch 166/200\n",
      "177/177 [==============================] - 0s 891us/step - loss: 0.4228 - accuracy: 0.7970\n",
      "Epoch 167/200\n",
      "177/177 [==============================] - 0s 727us/step - loss: 0.4208 - accuracy: 0.7993\n",
      "Epoch 168/200\n",
      "177/177 [==============================] - 0s 691us/step - loss: 0.4205 - accuracy: 0.7965\n",
      "Epoch 169/200\n",
      "177/177 [==============================] - 0s 665us/step - loss: 0.4212 - accuracy: 0.7996\n",
      "Epoch 170/200\n",
      "177/177 [==============================] - 0s 749us/step - loss: 0.4184 - accuracy: 0.8011\n",
      "Epoch 171/200\n",
      "177/177 [==============================] - 0s 714us/step - loss: 0.4211 - accuracy: 0.8032\n",
      "Epoch 172/200\n",
      "177/177 [==============================] - 0s 695us/step - loss: 0.4229 - accuracy: 0.7949\n",
      "Epoch 173/200\n",
      "177/177 [==============================] - 0s 703us/step - loss: 0.4206 - accuracy: 0.7988\n",
      "Epoch 174/200\n",
      "177/177 [==============================] - 0s 720us/step - loss: 0.4208 - accuracy: 0.8012\n",
      "Epoch 175/200\n",
      "177/177 [==============================] - 0s 705us/step - loss: 0.4212 - accuracy: 0.8000\n",
      "Epoch 176/200\n",
      "177/177 [==============================] - 0s 685us/step - loss: 0.4301 - accuracy: 0.7965\n",
      "Epoch 177/200\n",
      "177/177 [==============================] - 0s 699us/step - loss: 0.4206 - accuracy: 0.8025\n",
      "Epoch 178/200\n",
      "177/177 [==============================] - 0s 711us/step - loss: 0.4205 - accuracy: 0.8009\n",
      "Epoch 179/200\n",
      "177/177 [==============================] - 0s 687us/step - loss: 0.4197 - accuracy: 0.7961\n",
      "Epoch 180/200\n",
      "177/177 [==============================] - 0s 734us/step - loss: 0.4209 - accuracy: 0.7975\n",
      "Epoch 181/200\n",
      "177/177 [==============================] - 0s 700us/step - loss: 0.4277 - accuracy: 0.7959\n",
      "Epoch 182/200\n",
      "177/177 [==============================] - 0s 708us/step - loss: 0.4220 - accuracy: 0.7973\n",
      "Epoch 183/200\n",
      "177/177 [==============================] - 0s 662us/step - loss: 0.4194 - accuracy: 0.7952\n",
      "Epoch 184/200\n",
      "177/177 [==============================] - 0s 637us/step - loss: 0.4182 - accuracy: 0.7959\n",
      "Epoch 185/200\n",
      "177/177 [==============================] - 0s 782us/step - loss: 0.4208 - accuracy: 0.7961\n",
      "Epoch 186/200\n",
      "177/177 [==============================] - 0s 686us/step - loss: 0.4229 - accuracy: 0.8020\n",
      "Epoch 187/200\n",
      "177/177 [==============================] - 0s 614us/step - loss: 0.4211 - accuracy: 0.7996\n",
      "Epoch 188/200\n",
      "177/177 [==============================] - 0s 635us/step - loss: 0.4227 - accuracy: 0.7961\n",
      "Epoch 189/200\n",
      "177/177 [==============================] - 0s 686us/step - loss: 0.4198 - accuracy: 0.7986\n",
      "Epoch 190/200\n",
      "177/177 [==============================] - 0s 683us/step - loss: 0.4201 - accuracy: 0.7980\n",
      "Epoch 191/200\n",
      "177/177 [==============================] - 0s 645us/step - loss: 0.4222 - accuracy: 0.7968\n",
      "Epoch 192/200\n",
      "177/177 [==============================] - 0s 642us/step - loss: 0.4193 - accuracy: 0.8027\n",
      "Epoch 193/200\n",
      "177/177 [==============================] - 0s 788us/step - loss: 0.4220 - accuracy: 0.7977\n",
      "Epoch 194/200\n",
      "177/177 [==============================] - 0s 679us/step - loss: 0.4186 - accuracy: 0.7965\n",
      "Epoch 195/200\n",
      "177/177 [==============================] - 0s 653us/step - loss: 0.4197 - accuracy: 0.8011\n",
      "Epoch 196/200\n",
      "177/177 [==============================] - 0s 654us/step - loss: 0.4177 - accuracy: 0.8002\n",
      "Epoch 197/200\n",
      "177/177 [==============================] - 0s 705us/step - loss: 0.4183 - accuracy: 0.7961\n",
      "Epoch 198/200\n",
      "177/177 [==============================] - 0s 682us/step - loss: 0.4190 - accuracy: 0.7988\n",
      "Epoch 199/200\n",
      "177/177 [==============================] - 0s 653us/step - loss: 0.4188 - accuracy: 0.8027\n",
      "Epoch 200/200\n",
      "177/177 [==============================] - 0s 675us/step - loss: 0.4204 - accuracy: 0.7973\n"
     ]
    },
    {
     "data": {
      "text/plain": [
       "<keras.src.callbacks.History at 0x17c1dc150>"
      ]
     },
     "execution_count": 18,
     "metadata": {},
     "output_type": "execute_result"
    }
   ],
   "source": [
    "X_train = np.asarray(X_train).astype('float32')\n",
    "model.fit(X_train, y_train, epochs=200, batch_size=32)"
   ]
  },
  {
   "cell_type": "code",
   "execution_count": 20,
   "metadata": {},
   "outputs": [
    {
     "name": "stdout",
     "output_type": "stream",
     "text": [
      "45/45 [==============================] - 0s 436us/step\n"
     ]
    }
   ],
   "source": [
    "X_test = np.asarray(X_test).astype('float32')\n",
    "y_hat = model.predict(X_test)\n",
    "y_hat = [0 if val < 0.5 else 1 for val in y_hat]"
   ]
  },
  {
   "cell_type": "code",
   "execution_count": 21,
   "metadata": {},
   "outputs": [
    {
     "data": {
      "text/plain": [
       "0.8126330731014905"
      ]
     },
     "execution_count": 21,
     "metadata": {},
     "output_type": "execute_result"
    }
   ],
   "source": [
    "accuracy_score(y_test, y_hat)"
   ]
  },
  {
   "cell_type": "markdown",
   "metadata": {},
   "source": [
    "# 4. Saving and Reloading"
   ]
  },
  {
   "cell_type": "code",
   "execution_count": 23,
   "metadata": {
    "collapsed": true
   },
   "outputs": [
    {
     "name": "stdout",
     "output_type": "stream",
     "text": [
      "INFO:tensorflow:Assets written to: tfmodel/assets\n"
     ]
    },
    {
     "name": "stderr",
     "output_type": "stream",
     "text": [
      "INFO:tensorflow:Assets written to: tfmodel/assets\n"
     ]
    }
   ],
   "source": [
    "model.save('tfmodel')"
   ]
  },
  {
   "cell_type": "code",
   "execution_count": 24,
   "metadata": {},
   "outputs": [],
   "source": [
    "del model "
   ]
  },
  {
   "cell_type": "code",
   "execution_count": 25,
   "metadata": {},
   "outputs": [],
   "source": [
    "model = load_model('tfmodel')"
   ]
  },
  {
   "cell_type": "code",
   "execution_count": 28,
   "metadata": {},
   "outputs": [],
   "source": [
    "# Save as a pickle file\n",
    "with open('model.pkl', 'wb') as file:\n",
    "    pickle.dump(model, file)"
   ]
  },
  {
   "cell_type": "code",
   "execution_count": null,
   "metadata": {},
   "outputs": [],
   "source": []
  },
  {
   "cell_type": "code",
   "execution_count": null,
   "metadata": {},
   "outputs": [],
   "source": []
  }
 ],
 "metadata": {
  "kernelspec": {
   "display_name": "Python 3",
   "language": "python",
   "name": "python3"
  },
  "language_info": {
   "codemirror_mode": {
    "name": "ipython",
    "version": 3
   },
   "file_extension": ".py",
   "mimetype": "text/x-python",
   "name": "python",
   "nbconvert_exporter": "python",
   "pygments_lexer": "ipython3",
   "version": "3.11.2"
  }
 },
 "nbformat": 4,
 "nbformat_minor": 2
}
